{
  "nbformat": 4,
  "nbformat_minor": 0,
  "metadata": {
    "colab": {
      "provenance": []
    },
    "kernelspec": {
      "name": "python3",
      "display_name": "Python 3"
    },
    "language_info": {
      "name": "python"
    },
    "gpuClass": "standard"
  },
  "cells": [
    {
      "cell_type": "markdown",
      "source": [
        "#Importing Required Libraries"
      ],
      "metadata": {
        "id": "0cxrYUidzbSL"
      }
    },
    {
      "cell_type": "code",
      "source": [
        "import csv \n",
        "import datetime"
      ],
      "metadata": {
        "id": "nFnE6rPTzZwf"
      },
      "execution_count": 1,
      "outputs": []
    },
    {
      "cell_type": "markdown",
      "source": [
        "#Menu"
      ],
      "metadata": {
        "id": "PPlwDtxRz-2T"
      }
    },
    {
      "cell_type": "code",
      "source": [
        "f = open('Menu.txt', 'w') \n",
        "f.write(\"* Please Choose a Pizza Base: \\n\" \n",
        "\"1: Classic      100 TL\\n\"\n",
        "\"2: Margherita   110 TL\\n\"\n",
        "\"3: Turk Pizza    120 TL \\n\" \n",
        "\"4: Dominos Pizza   130 TL\\n\"\n",
        "\"* and sauce of your choice: \\n\"\n",
        "\"11: Olives      +5 TL\\n\"\n",
        "\"12: Mushrooms   +10 TL\\n\"\n",
        "\"13: GoatCheese  +15 TL\\n\"\n",
        "\"14: Meat        +18 TL\\n\"\n",
        "\"15: Onions      +5 TL\\n\"\n",
        "\"16: Corn        +3 TL\\n\"\n",
        "\"* Thank you!\")\n",
        "f.close()"
      ],
      "metadata": {
        "id": "4Ha3gEEjzo-8"
      },
      "execution_count": 2,
      "outputs": []
    },
    {
      "cell_type": "markdown",
      "source": [
        "#Superclass “Pizza”"
      ],
      "metadata": {
        "id": "ZBUpPIF3vxde"
      }
    },
    {
      "cell_type": "code",
      "source": [
        "class Pizza():\n",
        "    def __init__(self, description, cost):\n",
        "      self.description = description\n",
        "      self.cost = cost\n",
        "  \n",
        "    def get_description(self):\n",
        "      return self.description\n",
        "\n",
        "    def get_cost(self):\n",
        "      return self.cost"
      ],
      "metadata": {
        "id": "PU45CdyL_Q2-"
      },
      "execution_count": 3,
      "outputs": []
    },
    {
      "cell_type": "markdown",
      "source": [
        "#Subclass “Pizza”"
      ],
      "metadata": {
        "id": "X4tXu_2TzzhT"
      }
    },
    {
      "cell_type": "code",
      "source": [
        "class Classic(Pizza):\n",
        "  def __init__(self):\n",
        "      super().__init__(\"Classic\", 100)\n",
        "  \n",
        "class Margherita(Pizza):\n",
        "  def __init__(self):\n",
        "      super().__init__(\"Margherita\", 110)\n",
        "\n",
        "class Turk_Pizza(Pizza):\n",
        "  def __init__(self):\n",
        "      super().__init__(\"Turk Pizza\", 120)\n",
        "\n",
        "class Dominos_Pizza(Pizza):\n",
        "  def __init__(self):\n",
        "      super().__init__(\"Dominos Pizza\", 130)"
      ],
      "metadata": {
        "id": "gvchyuWJ_Q5b"
      },
      "execution_count": 4,
      "outputs": []
    },
    {
      "cell_type": "markdown",
      "source": [
        "#Decorator"
      ],
      "metadata": {
        "id": "xO3ovM-70B25"
      }
    },
    {
      "cell_type": "code",
      "source": [
        "class Decorator(Pizza):\n",
        "  def __init__(self, description,cost):\n",
        "        self.description = description\n",
        "        self.cost = cost\n",
        "\n",
        "  def get_description(self):\n",
        "      return self.description\n",
        "\n",
        "  def get_cost(self):\n",
        "      return self.cost"
      ],
      "metadata": {
        "id": "x1dF2Ytx_Q8K"
      },
      "execution_count": 5,
      "outputs": []
    },
    {
      "cell_type": "code",
      "source": [
        "class Olives(Decorator):\n",
        "    def __init__(self):\n",
        "      super().__init__(\"Olives\", 5)\n",
        "\n",
        "class Mushrooms(Decorator):\n",
        "    def __init__(self):\n",
        "      super().__init__(\"Mushrooms\",10)\n",
        "\n",
        "class Goat_Cheese(Decorator):\n",
        "    def __init__(self):\n",
        "      super().__init__(\"Goat Cheese\",15)\n",
        "\n",
        "class Meat(Decorator):\n",
        "    def __init__(self):\n",
        "      super().__init__(\"Meat\",18)\n",
        "\n",
        "class Onions(Decorator):\n",
        "    def __init__(self):\n",
        "      super().__init__(\"Onions\",5)\n",
        "\n",
        "class Corn(Decorator):\n",
        "    def __init__(self):\n",
        "      super().__init__(\"Corn\",3)"
      ],
      "metadata": {
        "id": "q5hAlCU2_Q-X"
      },
      "execution_count": 6,
      "outputs": []
    },
    {
      "cell_type": "code",
      "source": [
        "def main():\n",
        "  cost = 0\n",
        "  with open(\"Menu.txt\") as cust_menu:\n",
        "        for l in cust_menu:\n",
        "            print(l, end=\"\")\n",
        "  print(\"\\n---------------------------------\")\n",
        "  \n",
        "  \n",
        "  pizza_choice = int(input(\"\\nEnter a pizza number(1-4): \"))\n",
        "  if pizza_choice == 1 :\n",
        "        pizza = Classic()\n",
        "  elif pizza_choice == 2 :\n",
        "        pizza = Margherita()\n",
        "  elif pizza_choice == 3 : \n",
        "        pizza = Turk_Pizza()\n",
        "  elif pizza_choice == 4 : \n",
        "        pizza = Dominos_Pizza()\n",
        "  else:\n",
        "    pizza_choice = input(\"Please make a choice 1-4: \")\n",
        "  pizza_cost = pizza.cost\n",
        "\n",
        "\n",
        "  decorator_choice = int(input(\"Enter a decorator number(11-16): \"))\n",
        "  if decorator_choice == 11 :\n",
        "        decorator = Olives()\n",
        "  elif decorator_choice == 12 :\n",
        "        decorator = Mushrooms()\n",
        "  elif decorator_choice == 13 : \n",
        "        decorator = Goat_Cheese()\n",
        "  elif decorator_choice == 14 : \n",
        "        decorator = Meat()\n",
        "  elif decorator_choice == 15 : \n",
        "        decorator = Onions()\n",
        "  elif decorator_choice == 16 : \n",
        "        decorator = Corn()\n",
        "  else:\n",
        "    decorator_choice = input(\"Please make a choice 11-16: \")\n",
        "  decorator_cost = decorator.cost\n",
        " \n",
        "  cost = pizza_cost + decorator_cost\n",
        "\n",
        "  print(f\"Your order is {pizza.description} with {decorator.description}. Your total cost is {cost} TL\")\n",
        "\n",
        "  name = input(\"Name: \")\n",
        "  id = input(\"TC identification number: \")\n",
        "  card_no = input(\"Credit card number: \")\n",
        "  card_password = input(\"Card password: \")\n",
        "  time_of_order = datetime.datetime.now()\n",
        "\n",
        "  with open(\"Orders_Database.csv\", \"a\", newline=\"\") as file:\n",
        "        writer = csv.writer(file)\n",
        "        writer.writerow([name, id, card_no, card_password, pizza.get_description(), decorator.description, cost, time_of_order])\n",
        "  \n",
        "  print(\"Your order has been received.\")"
      ],
      "metadata": {
        "id": "KcsU9MC6_RBK"
      },
      "execution_count": 7,
      "outputs": []
    },
    {
      "cell_type": "code",
      "source": [
        "if __name__ == '__main__':\n",
        "    main()"
      ],
      "metadata": {
        "colab": {
          "base_uri": "https://localhost:8080/"
        },
        "id": "M45__YF0oTpn",
        "outputId": "516016bf-db46-42a8-9353-fb92dd34c10d"
      },
      "execution_count": 8,
      "outputs": [
        {
          "output_type": "stream",
          "name": "stdout",
          "text": [
            "* Please Choose a Pizza Base: \n",
            "1: Classic      100 TL\n",
            "2: Margherita   110 TL\n",
            "3: Turk Pizza    120 TL \n",
            "4: Dominos Pizza   130 TL\n",
            "* and sauce of your choice: \n",
            "11: Olives      +5 TL\n",
            "12: Mushrooms   +10 TL\n",
            "13: GoatCheese  +15 TL\n",
            "14: Meat        +18 TL\n",
            "15: Onions      +5 TL\n",
            "16: Corn        +3 TL\n",
            "* Thank you!\n",
            "---------------------------------\n",
            "\n",
            "Enter a pizza number(1-4): 3\n",
            "Enter a decorator number(11-16): 12\n",
            "Your order is Turk Pizza with Mushrooms. Your total cost is 130 TL\n",
            "Name: Sena Aydın\n",
            "TC identification number: 123456789\n",
            "Credit card number: 18202354566\n",
            "Card password: 0000\n",
            "Your order has been received.\n"
          ]
        }
      ]
    }
  ]
}